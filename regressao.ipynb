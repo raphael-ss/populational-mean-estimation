{
 "cells": [
  {
   "cell_type": "markdown",
   "id": "40eb84dc",
   "metadata": {},
   "source": [
    "# Trabalho de Probabilidade e Estatística\n",
    "\n",
    "## Estimativa da Média Populacional\n",
    "### Com Regressão Linear e KNN\n",
    "\n",
    "Bibliotecas usadas:\n",
    "- NumPy\n",
    "- Pandas\n",
    "- Scikit-Learn\n",
    "- Matplotlib"
   ]
  },
  {
   "cell_type": "code",
   "execution_count": 4,
   "id": "81d2823e",
   "metadata": {},
   "outputs": [
    {
     "name": "stdout",
     "output_type": "stream",
     "text": [
      "Defaulting to user installation because normal site-packages is not writeable\n",
      "Collecting scikit-learn\n",
      "  Downloading scikit_learn-1.3.2-cp310-cp310-manylinux_2_17_x86_64.manylinux2014_x86_64.whl (10.8 MB)\n",
      "\u001b[2K     \u001b[38;2;114;156;31m━━━━━━━━━━━━━━━━━━━━━━━━━━━━━━━━━━━━━━━\u001b[0m \u001b[32m10.8/10.8 MB\u001b[0m \u001b[31m169.8 kB/s\u001b[0m eta \u001b[36m0:00:00\u001b[0mm eta \u001b[36m0:00:01\u001b[0m[36m0:00:02\u001b[0m\n",
      "\u001b[?25hRequirement already satisfied: scipy>=1.5.0 in /usr/lib/python3/dist-packages (from scikit-learn) (1.8.0)\n",
      "Collecting joblib>=1.1.1\n",
      "  Downloading joblib-1.3.2-py3-none-any.whl (302 kB)\n",
      "\u001b[2K     \u001b[38;2;114;156;31m━━━━━━━━━━━━━━━━━━━━━━━━━━━━━━━━━━━━━\u001b[0m \u001b[32m302.2/302.2 KB\u001b[0m \u001b[31m139.9 kB/s\u001b[0m eta \u001b[36m0:00:00\u001b[0m[36m0:00:01\u001b[0m[36m0:00:01\u001b[0m:01\u001b[0m\n",
      "\u001b[?25hCollecting threadpoolctl>=2.0.0\n",
      "  Downloading threadpoolctl-3.2.0-py3-none-any.whl (15 kB)\n",
      "Requirement already satisfied: numpy<2.0,>=1.17.3 in /home/raphael/.local/lib/python3.10/site-packages (from scikit-learn) (1.24.3)\n",
      "Installing collected packages: threadpoolctl, joblib, scikit-learn\n",
      "Successfully installed joblib-1.3.2 scikit-learn-1.3.2 threadpoolctl-3.2.0\n",
      "Note: you may need to restart the kernel to use updated packages.\n"
     ]
    }
   ],
   "source": [
    "%pip install scikit-learn"
   ]
  },
  {
   "cell_type": "code",
   "execution_count": 2,
   "id": "5c640644",
   "metadata": {},
   "outputs": [
    {
     "data": {
      "text/html": [
       "<div>\n",
       "<style scoped>\n",
       "    .dataframe tbody tr th:only-of-type {\n",
       "        vertical-align: middle;\n",
       "    }\n",
       "\n",
       "    .dataframe tbody tr th {\n",
       "        vertical-align: top;\n",
       "    }\n",
       "\n",
       "    .dataframe thead th {\n",
       "        text-align: right;\n",
       "    }\n",
       "</style>\n",
       "<table border=\"1\" class=\"dataframe\">\n",
       "  <thead>\n",
       "    <tr style=\"text-align: right;\">\n",
       "      <th></th>\n",
       "      <th>Y</th>\n",
       "      <th>X1</th>\n",
       "      <th>X2</th>\n",
       "      <th>X3</th>\n",
       "      <th>X4</th>\n",
       "    </tr>\n",
       "  </thead>\n",
       "  <tbody>\n",
       "    <tr>\n",
       "      <th>0</th>\n",
       "      <td>1.448136</td>\n",
       "      <td>0.291702</td>\n",
       "      <td>2.587011</td>\n",
       "      <td>2.564149</td>\n",
       "      <td>2.233988</td>\n",
       "    </tr>\n",
       "    <tr>\n",
       "      <th>1</th>\n",
       "      <td>3.001715</td>\n",
       "      <td>0.517189</td>\n",
       "      <td>3.462381</td>\n",
       "      <td>3.414562</td>\n",
       "      <td>-1.518295</td>\n",
       "    </tr>\n",
       "    <tr>\n",
       "      <th>2</th>\n",
       "      <td>3.168068</td>\n",
       "      <td>0.607613</td>\n",
       "      <td>4.052388</td>\n",
       "      <td>3.974191</td>\n",
       "      <td>1.875687</td>\n",
       "    </tr>\n",
       "    <tr>\n",
       "      <th>3</th>\n",
       "      <td>2.522207</td>\n",
       "      <td>1.615740</td>\n",
       "      <td>1.999990</td>\n",
       "      <td>1.880660</td>\n",
       "      <td>1.234311</td>\n",
       "    </tr>\n",
       "    <tr>\n",
       "      <th>4</th>\n",
       "      <td>0.085236</td>\n",
       "      <td>-0.992394</td>\n",
       "      <td>2.667726</td>\n",
       "      <td>2.611272</td>\n",
       "      <td>2.660299</td>\n",
       "    </tr>\n",
       "  </tbody>\n",
       "</table>\n",
       "</div>"
      ],
      "text/plain": [
       "          Y        X1        X2        X3        X4\n",
       "0  1.448136  0.291702  2.587011  2.564149  2.233988\n",
       "1  3.001715  0.517189  3.462381  3.414562 -1.518295\n",
       "2  3.168068  0.607613  4.052388  3.974191  1.875687\n",
       "3  2.522207  1.615740  1.999990  1.880660  1.234311\n",
       "4  0.085236 -0.992394  2.667726  2.611272  2.660299"
      ]
     },
     "execution_count": 2,
     "metadata": {},
     "output_type": "execute_result"
    }
   ],
   "source": [
    "import pandas as pd\n",
    "import numpy as np\n",
    "import matplotlib.pyplot as plt\n",
    "import seaborn as sns\n",
    "from scipy.stats import t\n",
    "\n",
    "df = pd.read_csv('Trabalho.csv')\n",
    "df = df[['Y', 'X1', 'X2', 'X3', 'X4']]\n",
    "df.head(5)"
   ]
  },
  {
   "cell_type": "markdown",
   "id": "37767220",
   "metadata": {},
   "source": [
    "### Pré-processamento\n",
    "\n",
    "#### Observando um Mapa de Calor da Correlação das Variáveis"
   ]
  },
  {
   "cell_type": "code",
   "execution_count": 3,
   "id": "aa73ddbc",
   "metadata": {},
   "outputs": [
    {
     "data": {
      "text/plain": [
       "<Axes: >"
      ]
     },
     "execution_count": 3,
     "metadata": {},
     "output_type": "execute_result"
    },
    {
     "data": {
      "image/png": "[encoded data removed]",
      "text/plain": [
       "<Figure size 640x480 with 2 Axes>"
      ]
     },
     "metadata": {},
     "output_type": "display_data"
    }
   ],
   "source": [
    "#-Pega todas as colunas, com exceção das 2 primeiras;\n",
    "X = df.iloc[:, 1:].values\n",
    "#-Pega somente a coluna Y\n",
    "y = df['Y'].values\n",
    "\n",
    "#-Mapa de Calor da Correlação das Variáveis\n",
    "sns.heatmap(df.corr(), cbar=True)"
   ]
  },
  {
   "cell_type": "markdown",
   "id": "f603ea45",
   "metadata": {},
   "source": [
    "#### Visualizando as Correlações em Scatterplots"
   ]
  },
  {
   "cell_type": "code",
   "execution_count": 4,
   "id": "3a511583",
   "metadata": {},
   "outputs": [
    {
     "data": {
      "text/plain": [
       "<matplotlib.collections.PathCollection at 0x16968c810>"
      ]
     },
     "execution_count": 4,
     "metadata": {},
     "output_type": "execute_result"
    },
    {
     "data": {
      "image/png": "[encoded data removed]",
      "text/plain": [
       "<Figure size 640x480 with 1 Axes>"
      ]
     },
     "metadata": {},
     "output_type": "display_data"
    }
   ],
   "source": [
    "plt.scatter(y, df['X1'], color='red')"
   ]
  },
  {
   "cell_type": "code",
   "execution_count": 5,
   "id": "988ab888",
   "metadata": {},
   "outputs": [
    {
     "data": {
      "text/plain": [
       "<matplotlib.collections.PathCollection at 0x16a0c0750>"
      ]
     },
     "execution_count": 5,
     "metadata": {},
     "output_type": "execute_result"
    },
    {
     "data": {
      "image/png": "[encoded data removed]",
      "text/plain": [
       "<Figure size 640x480 with 1 Axes>"
      ]
     },
     "metadata": {},
     "output_type": "display_data"
    }
   ],
   "source": [
    "plt.scatter(y, df['X2'], color='red')"
   ]
  },
  {
   "cell_type": "code",
   "execution_count": 6,
   "id": "b4b0a761",
   "metadata": {},
   "outputs": [
    {
     "data": {
      "text/plain": [
       "<matplotlib.collections.PathCollection at 0x16a165510>"
      ]
     },
     "execution_count": 6,
     "metadata": {},
     "output_type": "execute_result"
    },
    {
     "data": {
      "image/png": "[encoded data removed]",
      "text/plain": [
       "<Figure size 640x480 with 1 Axes>"
      ]
     },
     "metadata": {},
     "output_type": "display_data"
    }
   ],
   "source": [
    "plt.scatter(y, df['X3'], color='red')"
   ]
  },
  {
   "cell_type": "code",
   "execution_count": 7,
   "id": "d9f3ce80",
   "metadata": {},
   "outputs": [
    {
     "data": {
      "text/plain": [
       "<matplotlib.collections.PathCollection at 0x16a1affd0>"
      ]
     },
     "execution_count": 7,
     "metadata": {},
     "output_type": "execute_result"
    },
    {
     "data": {
      "image/png": "[encoded data removed]",
      "text/plain": [
       "<Figure size 640x480 with 1 Axes>"
      ]
     },
     "metadata": {},
     "output_type": "display_data"
    }
   ],
   "source": [
    "plt.scatter(y, df['X4'], color='red')"
   ]
  },
  {
   "cell_type": "markdown",
   "id": "de7261fa",
   "metadata": {},
   "source": [
    "#### Organizando os Dados em Train/Test"
   ]
  },
  {
   "cell_type": "code",
   "execution_count": 8,
   "id": "b8225542",
   "metadata": {},
   "outputs": [],
   "source": [
    "from sklearn.model_selection import train_test_split\n",
    "X_train, X_test, y_train, y_test = train_test_split(X, y, test_size = 0.3, random_state = 10)"
   ]
  },
  {
   "cell_type": "markdown",
   "id": "cfe25af6",
   "metadata": {},
   "source": [
    "### Regressão Linear"
   ]
  },
  {
   "cell_type": "code",
   "execution_count": 14,
   "id": "e554a403",
   "metadata": {},
   "outputs": [
    {
     "data": {
      "text/html": [
       "<style>#sk-container-id-1 {color: black;}#sk-container-id-1 pre{padding: 0;}#sk-container-id-1 div.sk-toggleable {background-color: white;}#sk-container-id-1 label.sk-toggleable__label {cursor: pointer;display: block;width: 100%;margin-bottom: 0;padding: 0.3em;box-sizing: border-box;text-align: center;}#sk-container-id-1 label.sk-toggleable__label-arrow:before {content: \"▸\";float: left;margin-right: 0.25em;color: #696969;}#sk-container-id-1 label.sk-toggleable__label-arrow:hover:before {color: black;}#sk-container-id-1 div.sk-estimator:hover label.sk-toggleable__label-arrow:before {color: black;}#sk-container-id-1 div.sk-toggleable__content {max-height: 0;max-width: 0;overflow: hidden;text-align: left;background-color: #f0f8ff;}#sk-container-id-1 div.sk-toggleable__content pre {margin: 0.2em;color: black;border-radius: 0.25em;background-color: #f0f8ff;}#sk-container-id-1 input.sk-toggleable__control:checked~div.sk-toggleable__content {max-height: 200px;max-width: 100%;overflow: auto;}#sk-container-id-1 input.sk-toggleable__control:checked~label.sk-toggleable__label-arrow:before {content: \"▾\";}#sk-container-id-1 div.sk-estimator input.sk-toggleable__control:checked~label.sk-toggleable__label {background-color: #d4ebff;}#sk-container-id-1 div.sk-label input.sk-toggleable__control:checked~label.sk-toggleable__label {background-color: #d4ebff;}#sk-container-id-1 input.sk-hidden--visually {border: 0;clip: rect(1px 1px 1px 1px);clip: rect(1px, 1px, 1px, 1px);height: 1px;margin: -1px;overflow: hidden;padding: 0;position: absolute;width: 1px;}#sk-container-id-1 div.sk-estimator {font-family: monospace;background-color: #f0f8ff;border: 1px dotted black;border-radius: 0.25em;box-sizing: border-box;margin-bottom: 0.5em;}#sk-container-id-1 div.sk-estimator:hover {background-color: #d4ebff;}#sk-container-id-1 div.sk-parallel-item::after {content: \"\";width: 100%;border-bottom: 1px solid gray;flex-grow: 1;}#sk-container-id-1 div.sk-label:hover label.sk-toggleable__label {background-color: #d4ebff;}#sk-container-id-1 div.sk-serial::before {content: \"\";position: absolute;border-left: 1px solid gray;box-sizing: border-box;top: 0;bottom: 0;left: 50%;z-index: 0;}#sk-container-id-1 div.sk-serial {display: flex;flex-direction: column;align-items: center;background-color: white;padding-right: 0.2em;padding-left: 0.2em;position: relative;}#sk-container-id-1 div.sk-item {position: relative;z-index: 1;}#sk-container-id-1 div.sk-parallel {display: flex;align-items: stretch;justify-content: center;background-color: white;position: relative;}#sk-container-id-1 div.sk-item::before, #sk-container-id-1 div.sk-parallel-item::before {content: \"\";position: absolute;border-left: 1px solid gray;box-sizing: border-box;top: 0;bottom: 0;left: 50%;z-index: -1;}#sk-container-id-1 div.sk-parallel-item {display: flex;flex-direction: column;z-index: 1;position: relative;background-color: white;}#sk-container-id-1 div.sk-parallel-item:first-child::after {align-self: flex-end;width: 50%;}#sk-container-id-1 div.sk-parallel-item:last-child::after {align-self: flex-start;width: 50%;}#sk-container-id-1 div.sk-parallel-item:only-child::after {width: 0;}#sk-container-id-1 div.sk-dashed-wrapped {border: 1px dashed gray;margin: 0 0.4em 0.5em 0.4em;box-sizing: border-box;padding-bottom: 0.4em;background-color: white;}#sk-container-id-1 div.sk-label label {font-family: monospace;font-weight: bold;display: inline-block;line-height: 1.2em;}#sk-container-id-1 div.sk-label-container {text-align: center;}#sk-container-id-1 div.sk-container {/* jupyter's `normalize.less` sets `[hidden] { display: none; }` but bootstrap.min.css set `[hidden] { display: none !important; }` so we also need the `!important` here to be able to override the default hidden behavior on the sphinx rendered scikit-learn.org. See: https://github.com/scikit-learn/scikit-learn/issues/21755 */display: inline-block !important;position: relative;}#sk-container-id-1 div.sk-text-repr-fallback {display: none;}</style><div id=\"sk-container-id-1\" class=\"sk-top-container\"><div class=\"sk-text-repr-fallback\"><pre>Pipeline(steps=[(&#x27;Escala&#x27;, StandardScaler()), (&#x27;Modelo&#x27;, LinearRegression())])</pre><b>In a Jupyter environment, please rerun this cell to show the HTML representation or trust the notebook. <br />On GitHub, the HTML representation is unable to render, please try loading this page with nbviewer.org.</b></div><div class=\"sk-container\" hidden><div class=\"sk-item sk-dashed-wrapped\"><div class=\"sk-label-container\"><div class=\"sk-label sk-toggleable\"><input class=\"sk-toggleable__control sk-hidden--visually\" id=\"sk-estimator-id-1\" type=\"checkbox\" ><label for=\"sk-estimator-id-1\" class=\"sk-toggleable__label sk-toggleable__label-arrow\">Pipeline</label><div class=\"sk-toggleable__content\"><pre>Pipeline(steps=[(&#x27;Escala&#x27;, StandardScaler()), (&#x27;Modelo&#x27;, LinearRegression())])</pre></div></div></div><div class=\"sk-serial\"><div class=\"sk-item\"><div class=\"sk-estimator sk-toggleable\"><input class=\"sk-toggleable__control sk-hidden--visually\" id=\"sk-estimator-id-2\" type=\"checkbox\" ><label for=\"sk-estimator-id-2\" class=\"sk-toggleable__label sk-toggleable__label-arrow\">StandardScaler</label><div class=\"sk-toggleable__content\"><pre>StandardScaler()</pre></div></div></div><div class=\"sk-item\"><div class=\"sk-estimator sk-toggleable\"><input class=\"sk-toggleable__control sk-hidden--visually\" id=\"sk-estimator-id-3\" type=\"checkbox\" ><label for=\"sk-estimator-id-3\" class=\"sk-toggleable__label sk-toggleable__label-arrow\">LinearRegression</label><div class=\"sk-toggleable__content\"><pre>LinearRegression()</pre></div></div></div></div></div></div></div>"
      ],
      "text/plain": [
       "Pipeline(steps=[('Escala', StandardScaler()), ('Modelo', LinearRegression())])"
      ]
     },
     "execution_count": 14,
     "metadata": {},
     "output_type": "execute_result"
    }
   ],
   "source": [
    "from sklearn.linear_model import LinearRegression\n",
    "from sklearn.pipeline import Pipeline\n",
    "from sklearn.preprocessing import StandardScaler\n",
    "\n",
    "regression_model = LinearRegression()\n",
    "\n",
    "pipe_regression = Pipeline([\n",
    "    (\"Escala\", StandardScaler()),\n",
    "    (\"Modelo\", LinearRegression())\n",
    "])\n",
    "\n",
    "pipe_regression.fit(X_train, y_train)"
   ]
  },
  {
   "cell_type": "markdown",
   "id": "e850737e",
   "metadata": {},
   "source": [
    "#### Testando o Modelo e Plotando o Gráfico das Previsões:"
   ]
  },
  {
   "cell_type": "code",
   "execution_count": 15,
   "id": "da37f4ac",
   "metadata": {},
   "outputs": [
    {
     "data": {
      "text/plain": [
       "<matplotlib.collections.PathCollection at 0x16bf04a90>"
      ]
     },
     "execution_count": 15,
     "metadata": {},
     "output_type": "execute_result"
    },
    {
     "data": {
      "image/png": "[encoded data removed]",
      "text/plain": [
       "<Figure size 640x480 with 1 Axes>"
      ]
     },
     "metadata": {},
     "output_type": "display_data"
    }
   ],
   "source": [
    "y_pred_regression = pipe_regression.predict(X_test)\n",
    "plt.scatter(y_test, y_pred_regression)"
   ]
  },
  {
   "cell_type": "code",
   "execution_count": 16,
   "id": "c2246e30",
   "metadata": {},
   "outputs": [
    {
     "data": {
      "text/plain": [
       "Text(0.5, 1.0, 'Erro no Modelo de Regressão Linear')"
      ]
     },
     "execution_count": 16,
     "metadata": {},
     "output_type": "execute_result"
    },
    {
     "data": {
      "image/png": "[encoded data removed]",
      "text/plain": [
       "<Figure size 640x480 with 1 Axes>"
      ]
     },
     "metadata": {},
     "output_type": "display_data"
    }
   ],
   "source": [
    "erro_regression = np.array([abs(value - prediction) for value, prediction in zip(y_test, y_pred_regression)])\n",
    "plt.hist(erro_regression, color='red')\n",
    "plt.title(\"Erro no Modelo de Regressão Linear\")"
   ]
  },
  {
   "cell_type": "code",
   "execution_count": 17,
   "id": "17cad991",
   "metadata": {},
   "outputs": [
    {
     "name": "stdout",
     "output_type": "stream",
     "text": [
      "ERRO MÉDIO - ESTIMATIVA PONTUAL: 0.408\n",
      "INTERVALO DE CONFIANÇA: 0.298 - 0.518\n"
     ]
    }
   ],
   "source": [
    "t_score = t.ppf(0.975, df = len(erro_regression)-1)\n",
    "intervalo_positivo = erro_regression.mean() - t_score * (np.std(erro_regression) / np.sqrt(len(erro_regression)))\n",
    "intervalo_negativo = erro_regression.mean() + t_score * (np.std(erro_regression) / np.sqrt(len(erro_regression)))\n",
    "print(f\"ERRO MÉDIO - ESTIMATIVA PONTUAL: {round(erro_regression.mean(), 3)}\")\n",
    "print(f\"INTERVALO DE CONFIANÇA: {round(intervalo_positivo, 3)} - {round(intervalo_negativo, 3)}\")"
   ]
  },
  {
   "cell_type": "markdown",
   "id": "3d8a6e65",
   "metadata": {},
   "source": [
    "### KNN (K-Nearest Neighbors)"
   ]
  },
  {
   "cell_type": "code",
   "execution_count": 18,
   "id": "3e1ebce7",
   "metadata": {},
   "outputs": [],
   "source": [
    "from sklearn.neighbors import KNeighborsRegressor\n",
    "\n",
    "knn_model = KNeighborsRegressor()"
   ]
  },
  {
   "cell_type": "markdown",
   "id": "779d33d8",
   "metadata": {},
   "source": [
    "#### Set Up do Pipeline, Grid e Fitting "
   ]
  },
  {
   "cell_type": "code",
   "execution_count": 20,
   "id": "a1ae25e6",
   "metadata": {},
   "outputs": [
    {
     "name": "stdout",
     "output_type": "stream",
     "text": [
      "O melhor valor de K encontrado é: 4\n"
     ]
    },
    {
     "data": {
      "text/html": [
       "<div>\n",
       "<style scoped>\n",
       "    .dataframe tbody tr th:only-of-type {\n",
       "        vertical-align: middle;\n",
       "    }\n",
       "\n",
       "    .dataframe tbody tr th {\n",
       "        vertical-align: top;\n",
       "    }\n",
       "\n",
       "    .dataframe thead th {\n",
       "        text-align: right;\n",
       "    }\n",
       "</style>\n",
       "<table border=\"1\" class=\"dataframe\">\n",
       "  <thead>\n",
       "    <tr style=\"text-align: right;\">\n",
       "      <th></th>\n",
       "      <th>mean_fit_time</th>\n",
       "      <th>std_fit_time</th>\n",
       "      <th>mean_score_time</th>\n",
       "      <th>std_score_time</th>\n",
       "      <th>param_Modelo__n_neighbors</th>\n",
       "      <th>params</th>\n",
       "      <th>split0_test_score</th>\n",
       "      <th>split1_test_score</th>\n",
       "      <th>split2_test_score</th>\n",
       "      <th>mean_test_score</th>\n",
       "      <th>std_test_score</th>\n",
       "      <th>rank_test_score</th>\n",
       "    </tr>\n",
       "  </thead>\n",
       "  <tbody>\n",
       "    <tr>\n",
       "      <th>0</th>\n",
       "      <td>0.001435</td>\n",
       "      <td>0.000456</td>\n",
       "      <td>0.001230</td>\n",
       "      <td>0.000109</td>\n",
       "      <td>1</td>\n",
       "      <td>{'Modelo__n_neighbors': 1}</td>\n",
       "      <td>0.344193</td>\n",
       "      <td>0.329489</td>\n",
       "      <td>0.577176</td>\n",
       "      <td>0.416953</td>\n",
       "      <td>0.113454</td>\n",
       "      <td>10</td>\n",
       "    </tr>\n",
       "    <tr>\n",
       "      <th>1</th>\n",
       "      <td>0.000869</td>\n",
       "      <td>0.000221</td>\n",
       "      <td>0.000686</td>\n",
       "      <td>0.000030</td>\n",
       "      <td>2</td>\n",
       "      <td>{'Modelo__n_neighbors': 2}</td>\n",
       "      <td>0.489247</td>\n",
       "      <td>0.539310</td>\n",
       "      <td>0.630703</td>\n",
       "      <td>0.553087</td>\n",
       "      <td>0.058565</td>\n",
       "      <td>5</td>\n",
       "    </tr>\n",
       "    <tr>\n",
       "      <th>2</th>\n",
       "      <td>0.000535</td>\n",
       "      <td>0.000037</td>\n",
       "      <td>0.000596</td>\n",
       "      <td>0.000105</td>\n",
       "      <td>3</td>\n",
       "      <td>{'Modelo__n_neighbors': 3}</td>\n",
       "      <td>0.418675</td>\n",
       "      <td>0.645341</td>\n",
       "      <td>0.599703</td>\n",
       "      <td>0.554573</td>\n",
       "      <td>0.097884</td>\n",
       "      <td>4</td>\n",
       "    </tr>\n",
       "    <tr>\n",
       "      <th>3</th>\n",
       "      <td>0.000562</td>\n",
       "      <td>0.000009</td>\n",
       "      <td>0.000543</td>\n",
       "      <td>0.000077</td>\n",
       "      <td>4</td>\n",
       "      <td>{'Modelo__n_neighbors': 4}</td>\n",
       "      <td>0.501002</td>\n",
       "      <td>0.618992</td>\n",
       "      <td>0.602150</td>\n",
       "      <td>0.574048</td>\n",
       "      <td>0.052107</td>\n",
       "      <td>1</td>\n",
       "    </tr>\n",
       "    <tr>\n",
       "      <th>4</th>\n",
       "      <td>0.000524</td>\n",
       "      <td>0.000042</td>\n",
       "      <td>0.000480</td>\n",
       "      <td>0.000038</td>\n",
       "      <td>5</td>\n",
       "      <td>{'Modelo__n_neighbors': 5}</td>\n",
       "      <td>0.528390</td>\n",
       "      <td>0.564168</td>\n",
       "      <td>0.582183</td>\n",
       "      <td>0.558247</td>\n",
       "      <td>0.022356</td>\n",
       "      <td>3</td>\n",
       "    </tr>\n",
       "    <tr>\n",
       "      <th>5</th>\n",
       "      <td>0.000553</td>\n",
       "      <td>0.000046</td>\n",
       "      <td>0.000495</td>\n",
       "      <td>0.000037</td>\n",
       "      <td>6</td>\n",
       "      <td>{'Modelo__n_neighbors': 6}</td>\n",
       "      <td>0.564527</td>\n",
       "      <td>0.537228</td>\n",
       "      <td>0.577133</td>\n",
       "      <td>0.559629</td>\n",
       "      <td>0.016655</td>\n",
       "      <td>2</td>\n",
       "    </tr>\n",
       "    <tr>\n",
       "      <th>6</th>\n",
       "      <td>0.000487</td>\n",
       "      <td>0.000001</td>\n",
       "      <td>0.000448</td>\n",
       "      <td>0.000006</td>\n",
       "      <td>7</td>\n",
       "      <td>{'Modelo__n_neighbors': 7}</td>\n",
       "      <td>0.580543</td>\n",
       "      <td>0.491308</td>\n",
       "      <td>0.565127</td>\n",
       "      <td>0.545659</td>\n",
       "      <td>0.038944</td>\n",
       "      <td>8</td>\n",
       "    </tr>\n",
       "    <tr>\n",
       "      <th>7</th>\n",
       "      <td>0.000563</td>\n",
       "      <td>0.000055</td>\n",
       "      <td>0.000610</td>\n",
       "      <td>0.000109</td>\n",
       "      <td>8</td>\n",
       "      <td>{'Modelo__n_neighbors': 8}</td>\n",
       "      <td>0.538546</td>\n",
       "      <td>0.478876</td>\n",
       "      <td>0.551551</td>\n",
       "      <td>0.522991</td>\n",
       "      <td>0.031643</td>\n",
       "      <td>9</td>\n",
       "    </tr>\n",
       "    <tr>\n",
       "      <th>8</th>\n",
       "      <td>0.000442</td>\n",
       "      <td>0.000003</td>\n",
       "      <td>0.000414</td>\n",
       "      <td>0.000004</td>\n",
       "      <td>9</td>\n",
       "      <td>{'Modelo__n_neighbors': 9}</td>\n",
       "      <td>0.603625</td>\n",
       "      <td>0.492508</td>\n",
       "      <td>0.553227</td>\n",
       "      <td>0.549786</td>\n",
       "      <td>0.045428</td>\n",
       "      <td>6</td>\n",
       "    </tr>\n",
       "    <tr>\n",
       "      <th>9</th>\n",
       "      <td>0.000431</td>\n",
       "      <td>0.000003</td>\n",
       "      <td>0.000402</td>\n",
       "      <td>0.000004</td>\n",
       "      <td>10</td>\n",
       "      <td>{'Modelo__n_neighbors': 10}</td>\n",
       "      <td>0.569542</td>\n",
       "      <td>0.544619</td>\n",
       "      <td>0.527121</td>\n",
       "      <td>0.547094</td>\n",
       "      <td>0.017406</td>\n",
       "      <td>7</td>\n",
       "    </tr>\n",
       "  </tbody>\n",
       "</table>\n",
       "</div>"
      ],
      "text/plain": [
       "   mean_fit_time  std_fit_time  mean_score_time  std_score_time  \\\n",
       "0       0.001435      0.000456         0.001230        0.000109   \n",
       "1       0.000869      0.000221         0.000686        0.000030   \n",
       "2       0.000535      0.000037         0.000596        0.000105   \n",
       "3       0.000562      0.000009         0.000543        0.000077   \n",
       "4       0.000524      0.000042         0.000480        0.000038   \n",
       "5       0.000553      0.000046         0.000495        0.000037   \n",
       "6       0.000487      0.000001         0.000448        0.000006   \n",
       "7       0.000563      0.000055         0.000610        0.000109   \n",
       "8       0.000442      0.000003         0.000414        0.000004   \n",
       "9       0.000431      0.000003         0.000402        0.000004   \n",
       "\n",
       "  param_Modelo__n_neighbors                       params  split0_test_score  \\\n",
       "0                         1   {'Modelo__n_neighbors': 1}           0.344193   \n",
       "1                         2   {'Modelo__n_neighbors': 2}           0.489247   \n",
       "2                         3   {'Modelo__n_neighbors': 3}           0.418675   \n",
       "3                         4   {'Modelo__n_neighbors': 4}           0.501002   \n",
       "4                         5   {'Modelo__n_neighbors': 5}           0.528390   \n",
       "5                         6   {'Modelo__n_neighbors': 6}           0.564527   \n",
       "6                         7   {'Modelo__n_neighbors': 7}           0.580543   \n",
       "7                         8   {'Modelo__n_neighbors': 8}           0.538546   \n",
       "8                         9   {'Modelo__n_neighbors': 9}           0.603625   \n",
       "9                        10  {'Modelo__n_neighbors': 10}           0.569542   \n",
       "\n",
       "   split1_test_score  split2_test_score  mean_test_score  std_test_score  \\\n",
       "0           0.329489           0.577176         0.416953        0.113454   \n",
       "1           0.539310           0.630703         0.553087        0.058565   \n",
       "2           0.645341           0.599703         0.554573        0.097884   \n",
       "3           0.618992           0.602150         0.574048        0.052107   \n",
       "4           0.564168           0.582183         0.558247        0.022356   \n",
       "5           0.537228           0.577133         0.559629        0.016655   \n",
       "6           0.491308           0.565127         0.545659        0.038944   \n",
       "7           0.478876           0.551551         0.522991        0.031643   \n",
       "8           0.492508           0.553227         0.549786        0.045428   \n",
       "9           0.544619           0.527121         0.547094        0.017406   \n",
       "\n",
       "   rank_test_score  \n",
       "0               10  \n",
       "1                5  \n",
       "2                4  \n",
       "3                1  \n",
       "4                3  \n",
       "5                2  \n",
       "6                8  \n",
       "7                9  \n",
       "8                6  \n",
       "9                7  "
      ]
     },
     "execution_count": 20,
     "metadata": {},
     "output_type": "execute_result"
    }
   ],
   "source": [
    "from sklearn.pipeline import Pipeline\n",
    "from sklearn.preprocessing import StandardScaler\n",
    "from sklearn.model_selection import GridSearchCV\n",
    "\n",
    "pipe = Pipeline([\n",
    "    (\"Escala\", StandardScaler()),\n",
    "    (\"Modelo\", KNeighborsRegressor())\n",
    "])\n",
    "\n",
    "grid = GridSearchCV(estimator=pipe,\n",
    "                   param_grid={'Modelo__n_neighbors': [1,2,3,4,5,6,7,8,9,10]},\n",
    "                   cv=3)\n",
    "\n",
    "grid.fit(X_train, y_train)\n",
    "best_k = grid.best_params_['Modelo__n_neighbors']\n",
    "print(f\"O melhor valor de K encontrado é: {best_k}\")\n",
    "pd.DataFrame(grid.cv_results_)"
   ]
  },
  {
   "cell_type": "code",
   "execution_count": 21,
   "id": "4836785d",
   "metadata": {},
   "outputs": [
    {
     "data": {
      "text/plain": [
       "<matplotlib.collections.PathCollection at 0x16c06ce90>"
      ]
     },
     "execution_count": 21,
     "metadata": {},
     "output_type": "execute_result"
    },
    {
     "data": {
      "image/png": "[encoded data removed]",
      "text/plain": [
       "<Figure size 640x480 with 1 Axes>"
      ]
     },
     "metadata": {},
     "output_type": "display_data"
    }
   ],
   "source": [
    "y_pred_knn = grid.predict(X_test)\n",
    "plt.scatter(y_test, y_pred_knn)"
   ]
  },
  {
   "cell_type": "code",
   "execution_count": 22,
   "id": "82bbd612",
   "metadata": {},
   "outputs": [
    {
     "data": {
      "text/plain": [
       "Text(0.5, 1.0, 'Erro no Modelo de KNN')"
      ]
     },
     "execution_count": 22,
     "metadata": {},
     "output_type": "execute_result"
    },
    {
     "data": {
      "image/png": "[encoded data removed]",
      "text/plain": [
       "<Figure size 640x480 with 1 Axes>"
      ]
     },
     "metadata": {},
     "output_type": "display_data"
    }
   ],
   "source": [
    "erro_knn = np.array([abs(value - prediction) for value, prediction in zip(y_test, y_pred_knn)])\n",
    "plt.hist(erro_knn, color='red')\n",
    "plt.title(\"Erro no Modelo de KNN\")"
   ]
  },
  {
   "cell_type": "code",
   "execution_count": 24,
   "id": "27a3ba3d",
   "metadata": {},
   "outputs": [
    {
     "name": "stdout",
     "output_type": "stream",
     "text": [
      "ERRO MÉDIO - ESTIMATIVA PONTUAL: 0.531\n",
      "INTERVALO DE CONFIANÇA: 0.375 - 0.687\n"
     ]
    }
   ],
   "source": [
    "t_score = t.ppf(0.975, df = len(erro_knn)-1)\n",
    "intervalo_positivo = erro_knn.mean() - t_score * (np.std(erro_knn) / np.sqrt(len(erro_knn)))\n",
    "intervalo_negativo = erro_knn.mean() + t_score * (np.std(erro_knn) / np.sqrt(len(erro_knn)))\n",
    "print(f\"ERRO MÉDIO - ESTIMATIVA PONTUAL: {round(erro_knn.mean(), 3)}\")\n",
    "print(f\"INTERVALO DE CONFIANÇA: {round(intervalo_positivo, 3)} - {round(intervalo_negativo, 3)}\")"
   ]
  },
  {
   "cell_type": "markdown",
   "id": "a8fff2e5",
   "metadata": {},
   "source": [
    "### KNN - K = 1"
   ]
  },
  {
   "cell_type": "code",
   "execution_count": 28,
   "id": "354a5fe7",
   "metadata": {},
   "outputs": [
    {
     "name": "stdout",
     "output_type": "stream",
     "text": [
      "ERRO MÉDIO - ESTIMATIVA PONTUAL: 0.832\n",
      "INTERVALO DE CONFIANÇA: 0.687 - 0.978\n"
     ]
    },
    {
     "data": {
      "image/png": "[encoded data removed]",
      "text/plain": [
       "<Figure size 640x480 with 1 Axes>"
      ]
     },
     "metadata": {},
     "output_type": "display_data"
    }
   ],
   "source": [
    "from sklearn.pipeline import Pipeline\n",
    "from sklearn.preprocessing import StandardScaler\n",
    "from sklearn.model_selection import GridSearchCV\n",
    "from sklearn.neighbors import KNeighborsRegressor\n",
    "\n",
    "pipe_knn_1 = Pipeline([\n",
    "    (\"Escala\", StandardScaler()),\n",
    "    (\"Modelo\", KNeighborsRegressor(n_neighbors=1))\n",
    "])\n",
    "\n",
    "pipe_knn_1.fit(X_train, y_train)\n",
    "\n",
    "y_pred_knn_1 = pipe_knn_1.predict(X_test)\n",
    "\n",
    "erro_knn_1 = np.array([abs(value - prediction) for value, prediction in zip(y_test, y_pred_knn_1)])\n",
    "\n",
    "t_score = t.ppf(0.975, df = len(erro_knn_1)-1)\n",
    "intervalo_positivo = erro_knn_1.mean() - t_score * (np.std(erro_knn_1) / np.sqrt(len(erro_knn_1)))\n",
    "intervalo_negativo = erro_knn_1.mean() + t_score * (np.std(erro_knn_1) / np.sqrt(len(erro_knn_1)))\n",
    "print(f\"ERRO MÉDIO - ESTIMATIVA PONTUAL: {round(erro_knn_1.mean(), 3)}\")\n",
    "print(f\"INTERVALO DE CONFIANÇA: {round(intervalo_positivo, 3)} - {round(intervalo_negativo, 3)}\")\n",
    "\n",
    "plt.scatter(y_test, y_pred_knn_1)\n",
    "plt.show()"
   ]
  },
  {
   "cell_type": "markdown",
   "id": "6beee39a",
   "metadata": {},
   "source": [
    "### KNN - K = 3"
   ]
  },
  {
   "cell_type": "code",
   "execution_count": 29,
   "id": "38039813",
   "metadata": {},
   "outputs": [
    {
     "name": "stdout",
     "output_type": "stream",
     "text": [
      "ERRO MÉDIO - ESTIMATIVA PONTUAL: 0.623\n",
      "INTERVALO DE CONFIANÇA: 0.466 - 0.78\n"
     ]
    },
    {
     "data": {
      "image/png": "[encoded data removed]",
      "text/plain": [
       "<Figure size 640x480 with 1 Axes>"
      ]
     },
     "metadata": {},
     "output_type": "display_data"
    }
   ],
   "source": [
    "pipe_knn_3 = Pipeline([\n",
    "    (\"Escala\", StandardScaler()),\n",
    "    (\"Modelo\", KNeighborsRegressor(n_neighbors=3))\n",
    "])\n",
    "\n",
    "pipe_knn_3.fit(X_train, y_train)\n",
    "\n",
    "y_pred_knn_3 = pipe_knn_3.predict(X_test)\n",
    "\n",
    "erro_knn_3 = np.array([abs(value - prediction) for value, prediction in zip(y_test, y_pred_knn_3)])\n",
    "\n",
    "t_score = t.ppf(0.975, df = len(erro_knn_3)-1)\n",
    "intervalo_positivo = erro_knn_3.mean() - t_score * (np.std(erro_knn_3) / np.sqrt(len(erro_knn_3)))\n",
    "intervalo_negativo = erro_knn_3.mean() + t_score * (np.std(erro_knn_3) / np.sqrt(len(erro_knn_3)))\n",
    "print(f\"ERRO MÉDIO - ESTIMATIVA PONTUAL: {round(erro_knn_3.mean(), 3)}\")\n",
    "print(f\"INTERVALO DE CONFIANÇA: {round(intervalo_positivo, 3)} - {round(intervalo_negativo, 3)}\")\n",
    "\n",
    "plt.scatter(y_test, y_pred_knn_3)\n",
    "plt.show()"
   ]
  },
  {
   "cell_type": "markdown",
   "id": "1790b556",
   "metadata": {},
   "source": [
    "### KNN - K = 5"
   ]
  },
  {
   "cell_type": "code",
   "execution_count": 30,
   "id": "b44ef325",
   "metadata": {},
   "outputs": [
    {
     "name": "stdout",
     "output_type": "stream",
     "text": [
      "ERRO MÉDIO - ESTIMATIVA PONTUAL: 0.524\n",
      "INTERVALO DE CONFIANÇA: 0.371 - 0.676\n"
     ]
    },
    {
     "data": {
      "image/png": "[encoded data removed]",
      "text/plain": [
       "<Figure size 640x480 with 1 Axes>"
      ]
     },
     "metadata": {},
     "output_type": "display_data"
    }
   ],
   "source": [
    "pipe_knn_5 = Pipeline([\n",
    "    (\"Escala\", StandardScaler()),\n",
    "    (\"Modelo\", KNeighborsRegressor(n_neighbors=5))\n",
    "])\n",
    "\n",
    "pipe_knn_5.fit(X_train, y_train)\n",
    "\n",
    "y_pred_knn_5 = pipe_knn_5.predict(X_test)\n",
    "\n",
    "erro_knn_5 = np.array([abs(value - prediction) for value, prediction in zip(y_test, y_pred_knn_5)])\n",
    "\n",
    "t_score = t.ppf(0.975, df = len(erro_knn_5)-1)\n",
    "intervalo_positivo = erro_knn_5.mean() - t_score * (np.std(erro_knn_5) / np.sqrt(len(erro_knn_5)))\n",
    "intervalo_negativo = erro_knn_5.mean() + t_score * (np.std(erro_knn_5) / np.sqrt(len(erro_knn_5)))\n",
    "print(f\"ERRO MÉDIO - ESTIMATIVA PONTUAL: {round(erro_knn_5.mean(), 3)}\")\n",
    "print(f\"INTERVALO DE CONFIANÇA: {round(intervalo_positivo, 3)} - {round(intervalo_negativo, 3)}\")\n",
    "\n",
    "plt.scatter(y_test, y_pred_knn_5)\n",
    "plt.show()"
   ]
  },
  {
   "cell_type": "markdown",
   "id": "a96fcd76",
   "metadata": {},
   "source": [
    "## Conclusões\n",
    "\n",
    "Dentre todos os modelos, o de Regressão Linear é o melhor e mais preciso, e dentre os modelos de KNN, é o melhor. Porém, comparando os de K = 1, K = 3 e K = 5, o K = 5 é o melhor."
   ]
  },
  {
   "cell_type": "code",
   "execution_count": null,
   "id": "ba538b7f",
   "metadata": {},
   "outputs": [],
   "source": []
  }
 ],
 "metadata": {
  "kernelspec": {
   "display_name": "Python 3 (ipykernel)",
   "language": "python",
   "name": "python3"
  },
  "language_info": {
   "codemirror_mode": {
    "name": "ipython",
    "version": 3
   },
   "file_extension": ".py",
   "mimetype": "text/x-python",
   "name": "python",
   "nbconvert_exporter": "python",
   "pygments_lexer": "ipython3",
   "version": "3.11.5"
  }
 },
 "nbformat": 4,
 "nbformat_minor": 5
}
